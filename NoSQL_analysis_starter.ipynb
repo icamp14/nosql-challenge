{
 "cells": [
  {
   "cell_type": "markdown",
   "id": "9a57c4c6",
   "metadata": {},
   "source": [
    "# Eat Safe, Love"
   ]
  },
  {
   "cell_type": "markdown",
   "id": "064ef857",
   "metadata": {},
   "source": [
    "## Notebook Set Up"
   ]
  },
  {
   "cell_type": "code",
   "execution_count": null,
   "id": "3ecdd008",
   "metadata": {},
   "outputs": [],
   "source": [
    "# Import dependencies\n",
    "from pymongo import MongoClient\n",
    "from pprint import pprint"
   ]
  },
  {
   "cell_type": "code",
   "execution_count": null,
   "id": "59390c4a",
   "metadata": {},
   "outputs": [],
   "source": [
    "# Create an instance of MongoClient\n",
    "mongo = MongoClient(port=27017)"
   ]
  },
  {
   "cell_type": "code",
   "execution_count": null,
   "id": "71e373c1",
   "metadata": {},
   "outputs": [],
   "source": [
    "# assign the uk_food database to a variable name\n",
    "db = mongo['uk_food']"
   ]
  },
  {
   "cell_type": "code",
   "execution_count": null,
   "id": "18ab463c",
   "metadata": {},
   "outputs": [],
   "source": [
    "# review the collections in our database\n",
    "db.list_collection_names()"
   ]
  },
  {
   "cell_type": "code",
   "execution_count": null,
   "id": "11c9f11b",
   "metadata": {},
   "outputs": [],
   "source": [
    "# assign the collection to a variable\n",
    "establishments = db['establishments']"
   ]
  },
  {
   "cell_type": "markdown",
   "id": "d5671434",
   "metadata": {},
   "source": [
    "## Part 3: Exploratory Analysis\n",
    "Unless otherwise stated, for each question: \n",
    "* Use `count_documents` to display the number of documents contained in the result.\n",
    "* Display the first document in the results using `pprint`.\n",
    "* Convert the result to a Pandas DataFrame, print the number of rows in the DataFrame, and display the first 10 rows."
   ]
  },
  {
   "cell_type": "markdown",
   "id": "314bd884",
   "metadata": {},
   "source": [
    "### 1. Which establishments have a hygiene score equal to 20?"
   ]
  },
  {
   "cell_type": "code",
   "execution_count": null,
   "id": "c2da7648",
   "metadata": {},
   "outputs": [],
   "source": [
    "# Find the establishments with a hygiene score of 20\n",
    "hygiene_query = Queries(establishments,[{'scores.Hygiene':{\"$eq\":20}}])\n",
    "\n",
    "hygiene_query_results = establishments.find(hygiene_query)\n",
    "# Use count_documents to display the number of documents in the result\n",
    "hygiene = establishments.count_documents({'scores.Hygiene': {'$eq': 20}})\n",
    "print('Total establishments with a hygiene score of 20: ', hygiene)\n",
    "print()\n",
    "\n",
    "# Display the first document in the results using pprint\n",
    "hygiene_query.get_result(0)"
   ]
  },
  {
   "cell_type": "code",
   "execution_count": null,
   "id": "a6e5cece",
   "metadata": {},
   "outputs": [],
   "source": [
    "# Convert the result to a Pandas DataFrame\n",
    "hygiene_query.ConvertToDF()\n",
    "# Display the number of rows in the DataFrame\n",
    "print(\"DataFrame Rows: \", len(hygiene_query_df))\n",
    "# Display the first 10 rows of the DataFrame\n",
    "hygiene_query_df.head(10)"
   ]
  },
  {
   "cell_type": "markdown",
   "id": "0ef4395a",
   "metadata": {},
   "source": [
    "### 2. Which establishments in London have a `RatingValue` greater than or equal to 4?"
   ]
  },
  {
   "cell_type": "code",
   "execution_count": null,
   "id": "93c63829",
   "metadata": {},
   "outputs": [],
   "source": [
    "# Find the establishments with London as the Local Authority and has a RatingValue greater than or equal to 4.\n",
    "rating_value_query = Queries(establishments,[{\"LocalAuthorityName\" : {\"$regex\" : \"London\"} , \"RatingValue\" : {\"$gte\":\"4\"}}])\n",
    "\n",
    "rating_value_results = establishments.find(rating_value_query)\n",
    "\n",
    "# Use count_documents to display the number of documents in the result\n",
    "rating = establishments.count_documents(rating_value_query)\n",
    "\n",
    "print('Total establishments in London with a rating of 4 or greater: ', rating)\n",
    "print()\n",
    "\n",
    "# Display the first document in the results using pprint\n",
    "pprint(rating_value_results[0])"
   ]
  },
  {
   "cell_type": "code",
   "execution_count": null,
   "id": "07e24ccb",
   "metadata": {},
   "outputs": [],
   "source": [
    "# Convert the result to a Pandas DataFrame #hygiene_query.ConvertToDF()\n",
    "rating_df = pd.DataFrame(rating_value_results) \n",
    "# Display the number of rows in the DataFrame\n",
    "print(\"DataFrame Rows: \", len(hygiene_query_df))\n",
    "# Display the first 10 rows of the DataFrame\n",
    "rating_df.head(10)"
   ]
  },
  {
   "cell_type": "markdown",
   "id": "4e570caf",
   "metadata": {},
   "source": [
    "### 3. What are the top 5 establishments with a `RatingValue` rating value of 5, sorted by lowest hygiene score, nearest to the new restaurant added, \"Penang Flavours\"?"
   ]
  },
  {
   "cell_type": "code",
   "execution_count": null,
   "id": "7f599f3d",
   "metadata": {},
   "outputs": [],
   "source": [
    "# Search within 0.01 degree on either side of the latitude and longitude.\n",
    "# Rating value must equal 5\n",
    "# Sort by hygiene score\n",
    "\n",
    "degree_search = 0.01\n",
    "latitude = establishments.find_one({\"BusinessName\" : \"Penang Flavours\"})[\"geocode\"][\"latitude\"]\n",
    "longitude = establishments.find_one({\"BusinessName\" : \"Penang Flavours\"})[\"geocode\"][\"longitude\"]\n",
    "\n",
    "\n",
    "\n",
    "look_query=Queries(establishments,[{'RatingValue' : {'$regex' : '5'},\\\n",
    "                                       'geocode.latitude' : {'$lte': add[0], '$gte': sub[0]},\\\n",
    "                                       'geocode.longitude': {'$lte': add[1], '$gte': sub[1]}}])\n",
    "look_query.sort_limit('scores.Hygiene', 1, 5)\n",
    "# Print the results\n",
    "print()"
   ]
  },
  {
   "cell_type": "code",
   "execution_count": null,
   "id": "a6ad16f7",
   "metadata": {},
   "outputs": [],
   "source": [
    "# Convert result to Pandas DataFrame\n",
    "look_query.ConvertToDF()"
   ]
  },
  {
   "cell_type": "markdown",
   "id": "67281254",
   "metadata": {},
   "source": [
    "### 4. How many establishments in each Local Authority area have a hygiene score of 0?"
   ]
  },
  {
   "cell_type": "code",
   "execution_count": null,
   "id": "4eeb227e",
   "metadata": {},
   "outputs": [],
   "source": [
    "# Create a pipeline that: \n",
    "# 1. Matches establishments with a hygiene score of 0\n",
    "# 2. Groups the matches by Local Authority\n",
    "# 3. Sorts the matches from highest to lowest\n",
    "pipe_query = Queries(establishments, [{'$match':{'scores.Hygiene':{\"$eq\":0}}},\\\n",
    "                                     \n",
    "                                      {'$group':{'_id':'$LocalAuthorityName','count':{'$sum': 1}}},\\\n",
    "                                     \n",
    "                                      {'$sort' :{'count':-1}}])\n",
    "# Print the number of documents in the results\n",
    "print(\"Total establishments within each LocalAuthority with a hygiene score of '0': \",(pipe_query.set_result))\n",
    "# Print the first 10 results\n",
    "\n",
    "print(pipe_query.get_result(10))"
   ]
  },
  {
   "cell_type": "code",
   "execution_count": null,
   "id": "d8aab364",
   "metadata": {},
   "outputs": [],
   "source": [
    "# Convert the result to a Pandas DataFrame\n",
    "pipe_query.ConvertToDF()\n",
    "# Display the number of rows in the DataFrame\n",
    "print(pipe_query.set_result)\n",
    "# Display the first 10 rows of the DataFrame\n",
    "pipe_query.set_result.head(10)"
   ]
  }
 ],
 "metadata": {
  "kernelspec": {
   "display_name": "Python 3 (ipykernel)",
   "language": "python",
   "name": "python3"
  },
  "language_info": {
   "codemirror_mode": {
    "name": "ipython",
    "version": 3
   },
   "file_extension": ".py",
   "mimetype": "text/x-python",
   "name": "python",
   "nbconvert_exporter": "python",
   "pygments_lexer": "ipython3",
   "version": "3.10.9"
  }
 },
 "nbformat": 4,
 "nbformat_minor": 5
}
